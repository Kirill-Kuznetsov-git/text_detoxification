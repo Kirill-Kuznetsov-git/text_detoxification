{
 "cells": [
  {
   "cell_type": "code",
   "execution_count": 142,
   "id": "21a575be",
   "metadata": {
    "ExecuteTime": {
     "end_time": "2023-11-05T12:31:19.631816Z",
     "start_time": "2023-11-05T12:31:19.624659Z"
    }
   },
   "outputs": [],
   "source": [
    "import warnings\n",
    "\n",
    "warnings.filterwarnings('ignore')"
   ]
  },
  {
   "cell_type": "code",
   "execution_count": 143,
   "id": "e31133e2",
   "metadata": {
    "ExecuteTime": {
     "end_time": "2023-11-05T12:31:24.782918Z",
     "start_time": "2023-11-05T12:31:20.286580Z"
    }
   },
   "outputs": [
    {
     "name": "stdout",
     "output_type": "stream",
     "text": [
      "huggingface/tokenizers: The current process just got forked, after parallelism has already been used. Disabling parallelism to avoid deadlocks...\n",
      "To disable this warning, you can either:\n",
      "\t- Avoid using `tokenizers` before the fork if possible\n",
      "\t- Explicitly set the environment variable TOKENIZERS_PARALLELISM=(true | false)\n",
      "^C\n",
      "Traceback (most recent call last):\n",
      "  File \"/Users/kks02/text_detoxification/notebooks/../src/data/make_dataset.py\", line 8, in <module>\n",
      "    row_data = requests.get(ROW_DATA_ZIP_URL)\n",
      "  File \"/Users/kks02/miniconda/miniconda/lib/python3.10/site-packages/requests/api.py\", line 73, in get\n",
      "    return request(\"get\", url, params=params, **kwargs)\n",
      "  File \"/Users/kks02/miniconda/miniconda/lib/python3.10/site-packages/requests/api.py\", line 59, in request\n",
      "    return session.request(method=method, url=url, **kwargs)\n",
      "  File \"/Users/kks02/miniconda/miniconda/lib/python3.10/site-packages/requests/sessions.py\", line 587, in request\n",
      "    resp = self.send(prep, **send_kwargs)\n",
      "  File \"/Users/kks02/miniconda/miniconda/lib/python3.10/site-packages/requests/sessions.py\", line 723, in send\n",
      "    history = [resp for resp in gen]\n",
      "  File \"/Users/kks02/miniconda/miniconda/lib/python3.10/site-packages/requests/sessions.py\", line 723, in <listcomp>\n",
      "    history = [resp for resp in gen]\n",
      "  File \"/Users/kks02/miniconda/miniconda/lib/python3.10/site-packages/requests/sessions.py\", line 266, in resolve_redirects\n",
      "    resp = self.send(\n",
      "  File \"/Users/kks02/miniconda/miniconda/lib/python3.10/site-packages/requests/sessions.py\", line 745, in send\n",
      "    r.content\n",
      "  File \"/Users/kks02/miniconda/miniconda/lib/python3.10/site-packages/requests/models.py\", line 899, in content\n",
      "    self._content = b\"\".join(self.iter_content(CONTENT_CHUNK_SIZE)) or b\"\"\n",
      "  File \"/Users/kks02/miniconda/miniconda/lib/python3.10/site-packages/requests/models.py\", line 816, in generate\n",
      "    yield from self.raw.stream(chunk_size, decode_content=True)\n",
      "  File \"/Users/kks02/miniconda/miniconda/lib/python3.10/site-packages/urllib3/response.py\", line 628, in stream\n",
      "    data = self.read(amt=amt, decode_content=decode_content)\n",
      "  File \"/Users/kks02/miniconda/miniconda/lib/python3.10/site-packages/urllib3/response.py\", line 567, in read\n",
      "    data = self._fp_read(amt) if not fp_closed else b\"\"\n",
      "  File \"/Users/kks02/miniconda/miniconda/lib/python3.10/site-packages/urllib3/response.py\", line 533, in _fp_read\n",
      "    return self._fp.read(amt) if amt is not None else self._fp.read()\n",
      "  File \"/Users/kks02/miniconda/miniconda/lib/python3.10/http/client.py\", line 465, in read\n",
      "    s = self.fp.read(amt)\n",
      "  File \"/Users/kks02/miniconda/miniconda/lib/python3.10/socket.py\", line 705, in readinto\n",
      "    return self._sock.recv_into(b)\n",
      "  File \"/Users/kks02/miniconda/miniconda/lib/python3.10/ssl.py\", line 1274, in recv_into\n",
      "    return self.read(nbytes, buffer)\n",
      "  File \"/Users/kks02/miniconda/miniconda/lib/python3.10/ssl.py\", line 1130, in read\n",
      "    return self._sslobj.read(len, buffer)\n",
      "KeyboardInterrupt\n"
     ]
    }
   ],
   "source": [
    "!python ../src/data/make_dataset.py"
   ]
  },
  {
   "cell_type": "code",
   "execution_count": 145,
   "id": "f7342702",
   "metadata": {
    "ExecuteTime": {
     "end_time": "2023-11-05T12:32:39.325607Z",
     "start_time": "2023-11-05T12:31:59.876893Z"
    }
   },
   "outputs": [
    {
     "name": "stdout",
     "output_type": "stream",
     "text": [
      "huggingface/tokenizers: The current process just got forked, after parallelism has already been used. Disabling parallelism to avoid deadlocks...\n",
      "To disable this warning, you can either:\n",
      "\t- Avoid using `tokenizers` before the fork if possible\n",
      "\t- Explicitly set the environment variable TOKENIZERS_PARALLELISM=(true | false)\n",
      "/Users/kks02/miniconda/miniconda/lib/python3.10/site-packages/transformers/models/t5/tokenization_t5.py:220: FutureWarning: This tokenizer was incorrectly instantiated with a model max length of 512 which will be corrected in Transformers v5.\n",
      "For now, this behavior is kept to avoid breaking backwards compatibility when padding/encoding with `truncation is True`.\n",
      "- Be aware that you SHOULD NOT rely on t5-base automatically truncating your input to 512 when padding/encoding.\n",
      "- If you want to encode/pad to sequences longer than 512 you can either instantiate this tokenizer with `model_max_length` or pass `max_length` when encoding/padding.\n",
      "- To avoid this warning, please instantiate this tokenizer with `model_max_length` set to your preferred value.\n",
      "  warnings.warn(\n"
     ]
    }
   ],
   "source": [
    "!python ../src/data/preprocessing.py"
   ]
  },
  {
   "cell_type": "code",
   "execution_count": null,
   "id": "abef910d",
   "metadata": {},
   "outputs": [],
   "source": []
  }
 ],
 "metadata": {
  "kernelspec": {
   "display_name": "Python 3 (ipykernel)",
   "language": "python",
   "name": "python3"
  },
  "language_info": {
   "codemirror_mode": {
    "name": "ipython",
    "version": 3
   },
   "file_extension": ".py",
   "mimetype": "text/x-python",
   "name": "python",
   "nbconvert_exporter": "python",
   "pygments_lexer": "ipython3",
   "version": "3.10.10"
  },
  "varInspector": {
   "cols": {
    "lenName": 16,
    "lenType": 16,
    "lenVar": 40
   },
   "kernels_config": {
    "python": {
     "delete_cmd_postfix": "",
     "delete_cmd_prefix": "del ",
     "library": "var_list.py",
     "varRefreshCmd": "print(var_dic_list())"
    },
    "r": {
     "delete_cmd_postfix": ") ",
     "delete_cmd_prefix": "rm(",
     "library": "var_list.r",
     "varRefreshCmd": "cat(var_dic_list()) "
    }
   },
   "types_to_exclude": [
    "module",
    "function",
    "builtin_function_or_method",
    "instance",
    "_Feature"
   ],
   "window_display": false
  }
 },
 "nbformat": 4,
 "nbformat_minor": 5
}
